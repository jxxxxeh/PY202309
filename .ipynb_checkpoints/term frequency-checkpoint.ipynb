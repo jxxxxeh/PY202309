{
 "cells": [
  {
   "cell_type": "code",
   "execution_count": 19,
   "id": "f81fced3",
   "metadata": {},
   "outputs": [
    {
     "name": "stdout",
     "output_type": "stream",
     "text": [
      "-----TF dictionary-----\n",
      "{'a': 3, 'all': 1, 'begins': 1, 'books': 1, 'brown': 1, 'difficulty': 1, 'dog': 1, 'fox': 1, 'glitters': 1, 'gold': 1, 'in': 1, 'is': 1, 'journey': 1, 'jumps': 1, 'lazy': 1, 'lies': 1, 'likes': 1, 'middle': 1, 'miles': 1, 'not': 1, 'of': 2, 'opportunity': 1, 'over': 1, 'quick': 1, 'read': 1, 'she': 1, 'single': 1, 'step': 1, 'that': 1, 'the': 3, 'thousand': 1, 'to': 1, 'with': 1}\n",
      "-----Top-3 TF terms-----\n",
      "[('a', 3), ('the', 3), ('of', 2), ('all', 1), ('begins', 1), ('books', 1), ('brown', 1), ('difficulty', 1), ('dog', 1), ('fox', 1), ('glitters', 1), ('gold', 1), ('in', 1), ('is', 1), ('journey', 1), ('jumps', 1), ('lazy', 1), ('lies', 1), ('likes', 1), ('middle', 1), ('miles', 1), ('not', 1), ('opportunity', 1), ('over', 1), ('quick', 1), ('read', 1), ('she', 1), ('single', 1), ('step', 1), ('that', 1), ('thousand', 1), ('to', 1), ('with', 1)]\n",
      "rank\tword\tfrequency\n",
      "1\ta\t3\n",
      "2\tthe\t3\n",
      "3\tof\t2\n"
     ]
    }
   ],
   "source": [
    "import operator\n",
    "sentences = [\n",
    "    \"The quick brown fox jumps over the lazy dog.\",\n",
    "    \"A journey of a thousand miles begins with a single step.\",\n",
    "    \"All that glitters is not gold.\",    \n",
    "    \"In the middle of difficulty lies opportunity.\",\n",
    "    \"She likes to read books.\"\n",
    "]\n",
    "\n",
    "\n",
    "total_terms = set()\n",
    "# TODO 1: 토큰 집합 만들기\n",
    "\n",
    "all_tokens = []\n",
    "\n",
    "for i in range(len(sentences)):\n",
    "    tokens = sentences[i].lower().replace('.', '').split(' ')\n",
    "    all_tokens += tokens\n",
    "\n",
    "term_frequency_dict = {} # 토큰 별 단어 빈도 저장할 딕셔너리\n",
    "# TODO 2: 토큰 별 단어 빈도를 딕셔너리에 저장\n",
    "\n",
    "all_tokens.sort()\n",
    "\n",
    "for token in all_tokens:\n",
    "    term_frequency_dict[token] = all_tokens.count(token)\n",
    "\n",
    "# 토큰 빈도 출력\n",
    "print(\"-----TF dictionary-----\")\n",
    "print(term_frequency_dict)\n",
    "\n",
    "\n",
    "print(\"-----Top-3 TF terms-----\")\n",
    "# TODO 3: Top-3 토큰 빈도를 갖는 단어의 순위, 단어, 빈도 출력 코드 작성\n",
    "sorted_dict = sorted(term_frequency_dict.items(), key = operator.itemgetter(1), reverse=True)\n",
    "print(sorted_dict)\n",
    "print('rank', 'word', 'frequency', sep='\\t')\n",
    "rank = 1\n",
    "for word, freq in sorted_dict:\n",
    "    print(rank, word, freq, sep='\\t')\n",
    "    if rank == 3:\n",
    "        break\n",
    "    rank += 1"
   ]
  },
  {
   "cell_type": "code",
   "execution_count": null,
   "id": "ba66f954",
   "metadata": {},
   "outputs": [],
   "source": []
  }
 ],
 "metadata": {
  "kernelspec": {
   "display_name": "Python 3 (ipykernel)",
   "language": "python",
   "name": "python3"
  },
  "language_info": {
   "codemirror_mode": {
    "name": "ipython",
    "version": 3
   },
   "file_extension": ".py",
   "mimetype": "text/x-python",
   "name": "python",
   "nbconvert_exporter": "python",
   "pygments_lexer": "ipython3",
   "version": "3.11.4"
  }
 },
 "nbformat": 4,
 "nbformat_minor": 5
}
