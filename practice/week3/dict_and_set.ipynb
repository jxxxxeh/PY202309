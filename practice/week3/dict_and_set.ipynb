{
 "cells": [
  {
   "cell_type": "code",
   "execution_count": 6,
   "id": "408d3a65",
   "metadata": {},
   "outputs": [
    {
     "name": "stdout",
     "output_type": "stream",
     "text": [
      "Enter English number ranging from 1 to 5 : three\n",
      "three is 셋\n"
     ]
    }
   ],
   "source": [
    "num_dict = {'one':'하나', 'two':'둘', 'three':'셋', 'four':'넷', 'five':'다섯'}\n",
    "eng_num = input('Enter English number ranging from 1 to 5 : ')\n",
    "print(eng_num, 'is', num_dict[eng_num])"
   ]
  },
  {
   "cell_type": "code",
   "execution_count": 18,
   "id": "a1f0d289",
   "metadata": {},
   "outputs": [
    {
     "name": "stdout",
     "output_type": "stream",
     "text": [
      "Name: Moving / average: 4.0\n",
      "Name: Mask Girl / average: 3.6666666666666665\n",
      "Name: Oppenheimer / average: 3.3333333333333335\n"
     ]
    }
   ],
   "source": [
    "ratings = {'Moving': {'Misoo':4, 'Kwon':3, 'Soo':5},\n",
    "          'Mask Girl': {'Misoo':3, 'Kwon':4, 'Soo':4},\n",
    "          'Oppenheimer': {'Misoo':3, 'Kwon':3, 'Soo':4}}\n",
    "\n",
    "\n",
    "for movie in ratings.keys():\n",
    "    print('Name:', movie, '/ average:', (list(ratings[movie].values())[0]+list(ratings[movie].values())[1]+list(ratings[movie].values())[2])/3)"
   ]
  },
  {
   "cell_type": "code",
   "execution_count": 22,
   "id": "80b862bd",
   "metadata": {},
   "outputs": [
    {
     "name": "stdout",
     "output_type": "stream",
     "text": [
      "Enter user1's 1st friend name:철수\n",
      "Enter user1's 2nd friend name:영수\n",
      "Enter user1's 3rd friend name:영희\n",
      "Enter user2's 1st friend name:철희\n",
      "Enter user2's 2nd friend name:영수\n",
      "Enter user2's 3rd friend name:동수\n",
      "All friends: 동수 철수 철희 영수 영희\n"
     ]
    }
   ],
   "source": [
    "user1_friends = set()\n",
    "user2_friends = set()\n",
    "\n",
    "user1_friends.add(input('Enter user1\\'s 1st friend name:'))\n",
    "user1_friends.add(input('Enter user1\\'s 2nd friend name:'))\n",
    "user1_friends.add(input('Enter user1\\'s 3rd friend name:'))\n",
    "user2_friends.add(input('Enter user2\\'s 1st friend name:'))\n",
    "user2_friends.add(input('Enter user2\\'s 2nd friend name:'))\n",
    "user2_friends.add(input('Enter user2\\'s 3rd friend name:'))\n",
    "\n",
    "print('All friends:', *user1_friends | user2_friends)"
   ]
  },
  {
   "cell_type": "code",
   "execution_count": null,
   "id": "2ef07a2d",
   "metadata": {},
   "outputs": [],
   "source": []
  }
 ],
 "metadata": {
  "kernelspec": {
   "display_name": "Python 3 (ipykernel)",
   "language": "python",
   "name": "python3"
  },
  "language_info": {
   "codemirror_mode": {
    "name": "ipython",
    "version": 3
   },
   "file_extension": ".py",
   "mimetype": "text/x-python",
   "name": "python",
   "nbconvert_exporter": "python",
   "pygments_lexer": "ipython3",
   "version": "3.11.4"
  }
 },
 "nbformat": 4,
 "nbformat_minor": 5
}
