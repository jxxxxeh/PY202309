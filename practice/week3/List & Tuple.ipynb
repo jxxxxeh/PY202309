{
 "cells": [
  {
   "cell_type": "code",
   "execution_count": 1,
   "id": "0aa1b809",
   "metadata": {},
   "outputs": [],
   "source": [
    "# List (1/2)"
   ]
  },
  {
   "cell_type": "code",
   "execution_count": 8,
   "id": "af0d4e3b",
   "metadata": {},
   "outputs": [
    {
     "name": "stdout",
     "output_type": "stream",
     "text": [
      "Enter 1st number :50\n",
      "Enter 2nd number :40\n",
      "Enter 3rd number :90\n",
      "Enter 4th number :10\n",
      "Enter 5th number :30\n",
      "max:  90\n",
      "min:  10\n",
      "average: 44.0\n"
     ]
    }
   ],
   "source": [
    "num_list = [int(input(\"Enter 1st number :\")), int(input(\"Enter 2nd number :\")), int(input(\"Enter 3rd number :\")), int(input(\"Enter 4th number :\")), int(input(\"Enter 5th number :\"))]\n",
    "\n",
    "print(\"max: \", max(num_list)) # max(num_list) : num_list에서 최댓값을 반환\n",
    "print(\"min: \", min(num_list)) # min(num_list) : num_list에서 최솟값을 반환\n",
    "print(\"average:\", (num_list[0]+num_list[1]++num_list[2]+num_list[3]+num_list[4])/5) # num_list의 모든 인덱스의 합을 인덱스의 갯수 5로 나눠 평균을 계산"
   ]
  },
  {
   "cell_type": "code",
   "execution_count": 11,
   "id": "b4ccad85",
   "metadata": {},
   "outputs": [],
   "source": [
    "# List (2/2)"
   ]
  },
  {
   "cell_type": "code",
   "execution_count": 10,
   "id": "2d621b33",
   "metadata": {},
   "outputs": [
    {
     "name": "stdout",
     "output_type": "stream",
     "text": [
      "What is your favorite singer?Oh My Girl\n",
      "['BTS', 'Black Pink', 'Oh My Girl']\n"
     ]
    }
   ],
   "source": [
    "singerList = [\"BTS\", \"Black Pink\"]\n",
    "singer = input(\"What is your favorite singer?\")\n",
    "\n",
    "singerList.append(singer) # singer를 singList의 맨 뒤에 추가\n",
    "singerList.sort() # singerList를 이름순으로 정렬\n",
    "print(singerList)"
   ]
  },
  {
   "cell_type": "code",
   "execution_count": null,
   "id": "88bd29ef",
   "metadata": {},
   "outputs": [],
   "source": []
  },
  {
   "cell_type": "code",
   "execution_count": null,
   "id": "954b8380",
   "metadata": {},
   "outputs": [],
   "source": []
  }
 ],
 "metadata": {
  "kernelspec": {
   "display_name": "Python 3 (ipykernel)",
   "language": "python",
   "name": "python3"
  },
  "language_info": {
   "codemirror_mode": {
    "name": "ipython",
    "version": 3
   },
   "file_extension": ".py",
   "mimetype": "text/x-python",
   "name": "python",
   "nbconvert_exporter": "python",
   "pygments_lexer": "ipython3",
   "version": "3.11.4"
  }
 },
 "nbformat": 4,
 "nbformat_minor": 5
}
