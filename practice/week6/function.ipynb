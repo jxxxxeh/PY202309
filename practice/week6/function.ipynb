{
 "cells": [
  {
   "cell_type": "code",
   "execution_count": 1,
   "id": "681504e5",
   "metadata": {},
   "outputs": [
    {
     "name": "stdout",
     "output_type": "stream",
     "text": [
      "** Start Lotto **\n",
      "Number:  7 15 19 30 34 40 "
     ]
    }
   ],
   "source": [
    "import random\n",
    "\n",
    "def get_num():\n",
    "    return random.randrange(1, 46) # 1~45까지의 정수중에서 랜덤으로 생성\n",
    "\n",
    "luck_num = [] # 빈 리스트 생성\n",
    "num = 0\n",
    "print(\"** Start Lotto **\")\n",
    "\n",
    "while True:\n",
    "    num = get_num() # 함수 호출 -> return값은 1~45중 하나\n",
    "\n",
    "    if luck_num.count(num) == 0: # 리스트의 아이템 갯수가 0이라면\n",
    "        luck_num.append(num) # 리스트에 num을 추가\n",
    "    \n",
    "    if len(luck_num) == 6: # 리스트의 아이템 갯수(길이)가 6이라면\n",
    "        break # 반복문 탈출\n",
    "\n",
    "print('Number: ', end=' ')\n",
    "luck_num.sort() # 리스트를 오름차순 정렬\n",
    "\n",
    "for num in luck_num: # 리스트에서 하나씩 꺼내 num에 저장하고\n",
    "    print(num, end=' ') # num에 저장된 값을 프린트"
   ]
  },
  {
   "cell_type": "code",
   "execution_count": null,
   "id": "31d47ca4",
   "metadata": {},
   "outputs": [],
   "source": []
  }
 ],
 "metadata": {
  "kernelspec": {
   "display_name": "Python 3 (ipykernel)",
   "language": "python",
   "name": "python3"
  },
  "language_info": {
   "codemirror_mode": {
    "name": "ipython",
    "version": 3
   },
   "file_extension": ".py",
   "mimetype": "text/x-python",
   "name": "python",
   "nbconvert_exporter": "python",
   "pygments_lexer": "ipython3",
   "version": "3.11.4"
  }
 },
 "nbformat": 4,
 "nbformat_minor": 5
}
