{
 "cells": [
  {
   "cell_type": "code",
   "execution_count": 5,
   "id": "ca5ec6b6",
   "metadata": {},
   "outputs": [
    {
     "name": "stdout",
     "output_type": "stream",
     "text": [
      "Enter your first name: Juneheum\n",
      "The length of your name is 8\n"
     ]
    }
   ],
   "source": [
    "firstName = input(\"Enter your first name: \")\n",
    "\n",
    "print(\"The length of your name is\", len(firstName))"
   ]
  },
  {
   "cell_type": "code",
   "execution_count": 6,
   "id": "f5fbbc66",
   "metadata": {},
   "outputs": [
    {
     "name": "stdout",
     "output_type": "stream",
     "text": [
      "Enter your first name: Juneheum\n",
      "Enter your last name: Son\n",
      "Your name with a blank is Juneheum Son\n",
      "The total length is 12\n"
     ]
    }
   ],
   "source": [
    "firstName = input(\"Enter your first name: \")\n",
    "lastName = input(\"Enter your last name: \")\n",
    "\n",
    "print(\"Your name with a blank is\", firstName, lastName)\n",
    "print(\"The total length is\", (len(firstName)+len(lastName)+1))"
   ]
  },
  {
   "cell_type": "code",
   "execution_count": 8,
   "id": "7f3e1f61",
   "metadata": {},
   "outputs": [
    {
     "name": "stdout",
     "output_type": "stream",
     "text": [
      "Enter a word: Juneheum\n",
      "UPPER:  JUNEHEUM\n",
      "lower:  juneheum\n"
     ]
    }
   ],
   "source": [
    "word = input(\"Enter a word: \")\n",
    "\n",
    "print(\"UPPER: \", word.upper())\n",
    "print(\"lower: \", word.lower())"
   ]
  },
  {
   "cell_type": "code",
   "execution_count": 10,
   "id": "6ccf7365",
   "metadata": {},
   "outputs": [
    {
     "name": "stdout",
     "output_type": "stream",
     "text": [
      "Enter your first name: juneheum\n",
      "New first name:  Juneheum\n"
     ]
    }
   ],
   "source": [
    "firstName = input(\"Enter your first name: \")\n",
    "\n",
    "print(\"New first name: \", firstName[0].upper()+firstName[1:])"
   ]
  },
  {
   "cell_type": "code",
   "execution_count": null,
   "id": "23151b37",
   "metadata": {},
   "outputs": [],
   "source": []
  }
 ],
 "metadata": {
  "kernelspec": {
   "display_name": "Python 3 (ipykernel)",
   "language": "python",
   "name": "python3"
  },
  "language_info": {
   "codemirror_mode": {
    "name": "ipython",
    "version": 3
   },
   "file_extension": ".py",
   "mimetype": "text/x-python",
   "name": "python",
   "nbconvert_exporter": "python",
   "pygments_lexer": "ipython3",
   "version": "3.11.4"
  }
 },
 "nbformat": 4,
 "nbformat_minor": 5
}
