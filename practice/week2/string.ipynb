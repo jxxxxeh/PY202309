{
 "cells": [
  {
   "cell_type": "code",
   "execution_count": 5,
   "id": "58647bab",
   "metadata": {},
   "outputs": [
    {
     "name": "stdout",
     "output_type": "stream",
     "text": [
      "Enter your first name: Juneheum\n",
      "The length of your name is 8\n"
     ]
    }
   ],
   "source": [
    "firstName = input(\"Enter your first name: \")\n",
    "\n",
    "print(\"The length of your name is\", len(firstName)) # len(firstName) : firstName에 저장된 문자열의 길이를 반환"
   ]
  },
  {
   "cell_type": "code",
   "execution_count": 6,
   "id": "3727f8d4",
   "metadata": {},
   "outputs": [
    {
     "name": "stdout",
     "output_type": "stream",
     "text": [
      "Enter your first name: Juneheum\n",
      "Enter your last name: Son\n",
      "Your name with a blank is Juneheum Son\n",
      "The total length is 12\n"
     ]
    }
   ],
   "source": [
    "firstName = input(\"Enter your first name: \")\n",
    "lastName = input(\"Enter your last name: \")\n",
    "\n",
    "print(\"Your name with a blank is\", firstName, lastName)\n",
    "print(\"The total length is\", (len(firstName)+len(lastName)+1)) # len()의 타입은 정수형이므로 연산할 수 있으며, 정수형으로 나온다!"
   ]
  },
  {
   "cell_type": "code",
   "execution_count": 8,
   "id": "aa4e1907",
   "metadata": {},
   "outputs": [
    {
     "name": "stdout",
     "output_type": "stream",
     "text": [
      "Enter a word: Juneheum\n",
      "UPPER:  JUNEHEUM\n",
      "lower:  juneheum\n"
     ]
    }
   ],
   "source": [
    "word = input(\"Enter a word: \")\n",
    "\n",
    "print(\"UPPER: \", word.upper()) # word의 모든 character를 대문자로 변환\n",
    "print(\"lower: \", word.lower()) # word의 모든 character를 소문자로 변환"
   ]
  },
  {
   "cell_type": "code",
   "execution_count": 10,
   "id": "2b4744bf",
   "metadata": {},
   "outputs": [
    {
     "name": "stdout",
     "output_type": "stream",
     "text": [
      "Enter your first name: juneheum\n",
      "New first name:  Juneheum\n"
     ]
    }
   ],
   "source": [
    "firstName = input(\"Enter your first name: \")\n",
    "\n",
    "print(\"New first name: \", firstName[0].upper()+firstName[1:]) # New first name은 firstName의 0번째 index : j의 대문자와 firstName의 1번째 index부터 끝까지를 더한 결과. 각각은 문자열이므로 더한 결과는 문자열의 결합"
   ]
  },
  {
   "cell_type": "code",
   "execution_count": null,
   "id": "6c83064a",
   "metadata": {},
   "outputs": [],
   "source": []
  }
 ],
 "metadata": {
  "kernelspec": {
   "display_name": "Python 3 (ipykernel)",
   "language": "python",
   "name": "python3"
  },
  "language_info": {
   "codemirror_mode": {
    "name": "ipython",
    "version": 3
   },
   "file_extension": ".py",
   "mimetype": "text/x-python",
   "name": "python",
   "nbconvert_exporter": "python",
   "pygments_lexer": "ipython3",
   "version": "3.11.4"
  }
 },
 "nbformat": 4,
 "nbformat_minor": 5
}
