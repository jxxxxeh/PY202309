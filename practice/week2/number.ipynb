{
 "cells": [
  {
   "cell_type": "code",
   "execution_count": 1,
   "id": "fb6641a7",
   "metadata": {},
   "outputs": [
    {
     "name": "stdout",
     "output_type": "stream",
     "text": [
      "What do you call a bear with no teeth?\n",
      "A gummy bear!\n"
     ]
    }
   ],
   "source": [
    "print(\"What do you call a bear with no teeth?\\nA gummy bear!\") # \\n : next line"
   ]
  },
  {
   "cell_type": "code",
   "execution_count": 2,
   "id": "64682860",
   "metadata": {},
   "outputs": [
    {
     "name": "stdout",
     "output_type": "stream",
     "text": [
      "Enter your name: june\n",
      "Hello june\n"
     ]
    }
   ],
   "source": [
    "name = input(\"Enter your name: \") # 입력받은 값을 name에 저장\n",
    "\n",
    "print(\"Hello\", name)"
   ]
  },
  {
   "cell_type": "code",
   "execution_count": 3,
   "id": "e7db2b6a",
   "metadata": {},
   "outputs": [
    {
     "name": "stdout",
     "output_type": "stream",
     "text": [
      "Enter your name: juneheum\n",
      "Enter your last name: Son\n",
      "Hello juneheum Son\n"
     ]
    }
   ],
   "source": [
    "name = input(\"Enter your name: \") # 입력받은 문자열을 name에 저장\n",
    "last_name = input(\"Enter your last name: \") # 입력받은 문자열을 last_name에 저장\n",
    "\n",
    "print(\"Hello\", name, last_name) # Hello와 name에 저장된 문자열, last_name에 저장된 문자열을 출력"
   ]
  },
  {
   "cell_type": "code",
   "execution_count": 5,
   "id": "27303d07",
   "metadata": {},
   "outputs": [
    {
     "name": "stdout",
     "output_type": "stream",
     "text": [
      "Enter the first number: 10\n",
      "Enter the second number: 30\n",
      "10 + 30 = 40\n"
     ]
    }
   ],
   "source": [
    "firstNum = input(\"Enter the first number: \") # 입력받은 문자열을 firstNum에 저장\n",
    "secondNum = input(\"Enter the second number: \") # 입력받은 문자열을 secondNum에 저장\n",
    "\n",
    "print(firstNum, '+', secondNum, '=', int(firstNum)+int(secondNum))"
   ]
  },
  {
   "cell_type": "code",
   "execution_count": 6,
   "id": "fe952466",
   "metadata": {},
   "outputs": [
    {
     "name": "stdout",
     "output_type": "stream",
     "text": [
      "Enter the first number: 10\n",
      "Enter the second number: 20\n",
      "Enter the third number: 30\n",
      "10 + 20 * 30 = 610\n",
      "( 10 + 20 ) * 30 = 900\n"
     ]
    }
   ],
   "source": [
    "num1 = input(\"Enter the first number: \") # 입력받은 문자열을 num1에 저장\n",
    "num2 = input(\"Enter the second number: \") # 입력받은 문자열을 num2에 저장\n",
    "num3 = input(\"Enter the third number: \") # 입력받은 문자열을 num3에 저장\n",
    "\n",
    "print(num1, '+', num2, '*', num3, '=', int(num1)+int(num2)*int(num3)) # int로 감싸지지 않은 변수는 그대로 출력, int로 감싼 부분은 실제 연산결과가 반영됨.\n",
    "print('(', num1, '+', num2, ')', '*', num3, '=', (int(num1)+int(num2))*int(num3)) # 연산우선순위를 조정하기 위해 '()' 사용."
   ]
  },
  {
   "cell_type": "code",
   "execution_count": 8,
   "id": "80af1fb7",
   "metadata": {},
   "outputs": [
    {
     "name": "stdout",
     "output_type": "stream",
     "text": [
      "Enter the number of slices of pizza you started with: 10\n",
      "How many slices have you eaten?5\n",
      "You have 5 slicing(s) remaining\n"
     ]
    }
   ],
   "source": [
    "entirePizzaSlices = int(input(\"Enter the number of slices of pizza you started with: \")) # 전체 피자조각의 수를 정수로 입력받음\n",
    "eatenPizzaSlices = int(input(\"How many slices have you eaten?\")) # 먹은 피자조각의 수를 정수로 입력받음\n",
    "remainings = entirePizzaSlices - eatenPizzaSlices # 남은 피자조각의 수는 전체에서 먹은 피자조각의 수를 빼며, 정수끼리의 연산 결과 역시 정수임. -> type함수를 통해 결과를 표시하면 int로 나올것임.\n",
    "\n",
    "print(\"You have\", remainings, \"slicing(s) remaining\")"
   ]
  },
  {
   "cell_type": "code",
   "execution_count": 2,
   "id": "aa84e2d1",
   "metadata": {},
   "outputs": [
    {
     "name": "stdout",
     "output_type": "stream",
     "text": [
      "What is your name?june\n",
      "How old are you?21\n",
      "june next birthday you will be 22\n"
     ]
    }
   ],
   "source": [
    "name = input(\"What is your name?\")\n",
    "age = int(input(\"How old are you?\"))\n",
    "\n",
    "print(name, \"next birthday you will be\", age+1)"
   ]
  },
  {
   "cell_type": "code",
   "execution_count": 4,
   "id": "b6a5e53c",
   "metadata": {},
   "outputs": [
    {
     "name": "stdout",
     "output_type": "stream",
     "text": [
      "What is the total cost of the bill?5500\n",
      "How many people are there?3\n",
      "Each person should pay 1833.3333333333333 won.\n"
     ]
    }
   ],
   "source": [
    "total_cost = int(input(\"What is the total cost of the bill?\"))\n",
    "count_people = int(input(\"How many people are there?\"))\n",
    "\n",
    "print(\"Each person should pay\", total_cost/count_people, \"won.\")"
   ]
  },
  {
   "cell_type": "code",
   "execution_count": 5,
   "id": "ec7ca35a",
   "metadata": {},
   "outputs": [
    {
     "name": "stdout",
     "output_type": "stream",
     "text": [
      "Enter the number of days:10\n",
      "In 10 days there are...\n",
      "240 hours\n",
      "14400 minutes\n",
      "864000 seconds\n"
     ]
    }
   ],
   "source": [
    "days = int(input(\"Enter the number of days:\"))\n",
    "\n",
    "print(\"In\", days, \"days there are...\")\n",
    "print(days*24, \"hours\")\n",
    "print(days*24*60, \"minutes\")\n",
    "print(days*24*60*60, \"seconds\")"
   ]
  },
  {
   "cell_type": "code",
   "execution_count": 6,
   "id": "fa317e12",
   "metadata": {},
   "outputs": [
    {
     "name": "stdout",
     "output_type": "stream",
     "text": [
      "Enter the number of kilos:10\n",
      "That is 22.040000000000003 pounds\n"
     ]
    }
   ],
   "source": [
    "input_kilos = int(input(\"Enter the number of kilos:\"))\n",
    "\n",
    "print(\"That is\", input_kilos*2.204, \"pounds\")"
   ]
  },
  {
   "cell_type": "code",
   "execution_count": null,
   "id": "26ba058d",
   "metadata": {},
   "outputs": [],
   "source": []
  }
 ],
 "metadata": {
  "kernelspec": {
   "display_name": "Python 3 (ipykernel)",
   "language": "python",
   "name": "python3"
  },
  "language_info": {
   "codemirror_mode": {
    "name": "ipython",
    "version": 3
   },
   "file_extension": ".py",
   "mimetype": "text/x-python",
   "name": "python",
   "nbconvert_exporter": "python",
   "pygments_lexer": "ipython3",
   "version": "3.11.4"
  }
 },
 "nbformat": 4,
 "nbformat_minor": 5
}
