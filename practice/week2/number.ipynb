{
 "cells": [
  {
   "cell_type": "code",
   "execution_count": 1,
   "id": "fb6641a7",
   "metadata": {},
   "outputs": [
    {
     "name": "stdout",
     "output_type": "stream",
     "text": [
      "What do you call a bear with no teeth?\n",
      "A gummy bear!\n"
     ]
    }
   ],
   "source": [
    "print(\"What do you call a bear with no teeth?\\nA gummy bear!\") # \\n : next line"
   ]
  },
  {
   "cell_type": "code",
   "execution_count": 2,
   "id": "64682860",
   "metadata": {},
   "outputs": [
    {
     "name": "stdout",
     "output_type": "stream",
     "text": [
      "Enter your name: june\n",
      "Hello june\n"
     ]
    }
   ],
   "source": [
    "name = input(\"Enter your name: \") # 입력받은 값을 name에 저장\n",
    "\n",
    "print(\"Hello\", name)"
   ]
  },
  {
   "cell_type": "code",
   "execution_count": 3,
   "id": "e7db2b6a",
   "metadata": {},
   "outputs": [
    {
     "name": "stdout",
     "output_type": "stream",
     "text": [
      "Enter your name: juneheum\n",
      "Enter your last name: Son\n",
      "Hello juneheum Son\n"
     ]
    }
   ],
   "source": [
    "name = input(\"Enter your name: \")\n",
    "last_name = input(\"Enter your last name: \")\n",
    "\n",
    "print(\"Hello\", name, last_name)"
   ]
  },
  {
   "cell_type": "code",
   "execution_count": 5,
   "id": "27303d07",
   "metadata": {},
   "outputs": [
    {
     "name": "stdout",
     "output_type": "stream",
     "text": [
      "Enter the first number: 10\n",
      "Enter the second number: 30\n",
      "10 + 30 = 40\n"
     ]
    }
   ],
   "source": [
    "firstNum = input(\"Enter the first number: \")\n",
    "secondNum = input(\"Enter the second number: \")\n",
    "\n",
    "print(firstNum, '+', secondNum, '=', int(firstNum)+int(secondNum))"
   ]
  },
  {
   "cell_type": "code",
   "execution_count": 6,
   "id": "fe952466",
   "metadata": {},
   "outputs": [
    {
     "name": "stdout",
     "output_type": "stream",
     "text": [
      "Enter the first number: 10\n",
      "Enter the second number: 20\n",
      "Enter the third number: 30\n",
      "10 + 20 * 30 = 610\n",
      "( 10 + 20 ) * 30 = 900\n"
     ]
    }
   ],
   "source": [
    "num1 = input(\"Enter the first number: \")\n",
    "num2 = input(\"Enter the second number: \")\n",
    "num3 = input(\"Enter the third number: \")\n",
    "\n",
    "print(num1, '+', num2, '*', num3, '=', int(num1)+int(num2)*int(num3))\n",
    "print('(', num1, '+', num2, ')', '*', num3, '=', (int(num1)+int(num2))*int(num3))"
   ]
  },
  {
   "cell_type": "code",
   "execution_count": 8,
   "id": "80af1fb7",
   "metadata": {},
   "outputs": [
    {
     "name": "stdout",
     "output_type": "stream",
     "text": [
      "Enter the number of slices of pizza you started with: 10\n",
      "How many slices have you eaten?5\n",
      "You have 5 slicing(s) remaining\n"
     ]
    }
   ],
   "source": [
    "entirePizzaSlices = int(input(\"Enter the number of slices of pizza you started with: \"))\n",
    "eatenPizzaSlices = int(input(\"How many slices have you eaten?\"))\n",
    "remainings = entirePizzaSlices - eatenPizzaSlices\n",
    "\n",
    "print(\"You have\", remainings, \"slicing(s) remaining\")"
   ]
  },
  {
   "cell_type": "code",
   "execution_count": null,
   "id": "aa84e2d1",
   "metadata": {},
   "outputs": [],
   "source": []
  },
  {
   "cell_type": "code",
   "execution_count": null,
   "id": "b6a5e53c",
   "metadata": {},
   "outputs": [],
   "source": []
  }
 ],
 "metadata": {
  "kernelspec": {
   "display_name": "Python 3 (ipykernel)",
   "language": "python",
   "name": "python3"
  },
  "language_info": {
   "codemirror_mode": {
    "name": "ipython",
    "version": 3
   },
   "file_extension": ".py",
   "mimetype": "text/x-python",
   "name": "python",
   "nbconvert_exporter": "python",
   "pygments_lexer": "ipython3",
   "version": "3.11.4"
  }
 },
 "nbformat": 4,
 "nbformat_minor": 5
}
