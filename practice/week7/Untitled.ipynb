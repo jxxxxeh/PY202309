{
 "cells": [
  {
   "cell_type": "code",
   "execution_count": 20,
   "id": "33353fb3",
   "metadata": {},
   "outputs": [
    {
     "name": "stdout",
     "output_type": "stream",
     "text": [
      "Input a source file path & name: /Users/juneson/Desktop/UNIV/23-2/pythonPrograming/PY202309/data.txt\n",
      "Out a source file path & name: /Users/juneson/Desktop/UNIV/23-2/pythonPrograming/PY202309/data_copy.txt\n",
      "====== Finish to copy the file ======\n"
     ]
    }
   ],
   "source": [
    "in_fp, out_fp = None, None\n",
    "read_str = ''\n",
    "\n",
    "in_file_path = input(\"Input a source file path & name: \")\n",
    "out_file_path = input(\"Out a source file path & name: \")\n",
    "\n",
    "in_fp = open(in_file_path, 'r', encoding='utf8')\n",
    "out_fp = open(out_file_path, 'w', encoding='utf8')\n",
    "\n",
    "in_lines = in_fp.readlines()\n",
    "for in_str in in_lines:\n",
    "    out_fp.writelines(in_str)\n",
    "    \n",
    "in_fp.close()\n",
    "out_fp.close()\n",
    "print('====== Finish to copy the file ======')"
   ]
  },
  {
   "cell_type": "code",
   "execution_count": null,
   "id": "28aa5ca3",
   "metadata": {},
   "outputs": [],
   "source": []
  }
 ],
 "metadata": {
  "kernelspec": {
   "display_name": "Python 3 (ipykernel)",
   "language": "python",
   "name": "python3"
  },
  "language_info": {
   "codemirror_mode": {
    "name": "ipython",
    "version": 3
   },
   "file_extension": ".py",
   "mimetype": "text/x-python",
   "name": "python",
   "nbconvert_exporter": "python",
   "pygments_lexer": "ipython3",
   "version": "3.11.4"
  }
 },
 "nbformat": 4,
 "nbformat_minor": 5
}
