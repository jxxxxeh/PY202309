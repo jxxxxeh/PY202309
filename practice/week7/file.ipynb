{
 "cells": [
  {
   "cell_type": "code",
   "execution_count": 3,
   "id": "efe2e23f",
   "metadata": {},
   "outputs": [
    {
     "name": "stdout",
     "output_type": "stream",
     "text": [
      "1. 암호화, 2. 복호화 중 선택하세요: 2\n",
      "입력 파일 이름을 입력하세요: origin_data_enc.txt\n",
      "출력 파일 이름을 입력하세요: origin_data_dec.txt\n",
      "origin_data_enc.txt --> origin_data_dec.txt Finish to transform\n"
     ]
    }
   ],
   "source": [
    "choice = int(input(\"1. 암호화, 2. 복호화 중 선택하세요: \")) # 암호화 또는 복호화를 선택하도록 입력받음\n",
    "in_filename = input(\"입력 파일 이름을 입력하세요: \") # 입력 파일 이름을 입력받아 in_filename에 저장\n",
    "out_filename = input(\"출력 파일 이름을 입력하세요: \") # 출력 파일 이름을 입력받아 out_filename에 저장\n",
    "\n",
    "token_jump = 0 # 암호화 또는 복호화에 사용할 token_jump를 초기화\n",
    "\n",
    "# 사용자의 선택에 따라 암호화 또는 복호화를 위한 token_jump 값을 설정\n",
    "if choice == 1: # 암호화를 선택한 경우\n",
    "    token_jump = 100 # token_jump를 100만큼 증가시켜 암호화\n",
    "elif choice == 2: # 복호화를 선택한 경우\n",
    "    token_jump = -100 # token_jump를 100만큼 감소시켜 복호화\n",
    "    \n",
    "# 입력 파일과 출력 파일을 실행(?)\n",
    "in_fp = open(in_filename, 'r', encoding='utf8')\n",
    "out_fp = open(out_filename, 'w', encoding='utf8')\n",
    "\n",
    "in_lines = in_fp.readlines() # in_fp파일의 모든 라인을 읽어들여 in_lines에 저장\n",
    "\n",
    "for in_line in in_lines:\n",
    "    out_str = '' # 출력 문자열을 초기화\n",
    "    for i in range(0, len(in_line)):\n",
    "        ch = in_line[i] # 현재 문자를 가져옴\n",
    "        ch_num = ord(ch) # 현재 문자의 유니코드 코드 포인트를 가져옴\n",
    "        ch_num += token_jump # 토큰 점프 값을 더하거나 뺌\n",
    "        ch2 = chr(ch_num) # 새로운 문자로 변환\n",
    "        out_str += ch2 # 출력 문자열에 추가\n",
    "        \n",
    "    out_fp.write(out_str) # 암호화 또는 복호화된 라인을 출력 파일에 씀\n",
    "    \n",
    "out_fp.close() # out_fp 파일 닫음\n",
    "in_fp.close() # in_fp 파일 닫음\n",
    "print(\"%s --> %s Finish to transform\"%(in_filename, out_filename))"
   ]
  },
  {
   "cell_type": "markdown",
   "id": "743ff0d6",
   "metadata": {},
   "source": []
  },
  {
   "cell_type": "code",
   "execution_count": null,
   "id": "feb1a233",
   "metadata": {},
   "outputs": [],
   "source": []
  }
 ],
 "metadata": {
  "kernelspec": {
   "display_name": "Python 3 (ipykernel)",
   "language": "python",
   "name": "python3"
  },
  "language_info": {
   "codemirror_mode": {
    "name": "ipython",
    "version": 3
   },
   "file_extension": ".py",
   "mimetype": "text/x-python",
   "name": "python",
   "nbconvert_exporter": "python",
   "pygments_lexer": "ipython3",
   "version": "3.11.4"
  }
 },
 "nbformat": 4,
 "nbformat_minor": 5
}
