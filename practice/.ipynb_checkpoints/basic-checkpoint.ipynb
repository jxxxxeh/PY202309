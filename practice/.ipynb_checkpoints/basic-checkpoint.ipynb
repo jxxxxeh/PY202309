{
 "cells": [
  {
   "cell_type": "code",
   "execution_count": 2,
   "id": "f12170bb",
   "metadata": {},
   "outputs": [
    {
     "name": "stdout",
     "output_type": "stream",
     "text": [
      "1. current list = [30, 10, 20, 50, 40]\n",
      "2. append(60) = [30, 10, 20, 50, 40, 60]\n",
      "3. item after pop() = 60\n",
      "4. list after pop() = [30, 10, 20, 50, 40]\n",
      "5. after sort() = [10, 20, 30, 40, 50]\n",
      "6. after reverse() = [50, 40, 30, 20, 10]\n",
      "7. index for 20 = 3\n",
      "8. after insert(2, 222) = [50, 40, 222, 30, 20, 10]\n",
      "9. after remove(222) = [50, 40, 30, 20, 10]\n",
      "10. after extend([100, 200, 100]) = [50, 40, 30, 20, 10, 100, 200, 100]\n",
      "11. the number of 100 = 2\n"
     ]
    }
   ],
   "source": [
    "sample_list = [30, 10, 20, 50, 40]\n",
    "print(\"1. current list =\", sample_list) # current list = [30, 10, 20, 50, 40]\n",
    "\n",
    "sample_list.append(60)\n",
    "print(\"2. append(60) =\", sample_list) # append(60) : 마지막에 60 추가\n",
    "\n",
    "print(\"3. item after pop() =\", sample_list.pop()) # pop() : 마지막 item을 출력하고 list에서 삭제\n",
    "print(\"4. list after pop() =\", sample_list)\n",
    "\n",
    "sample_list.sort()\n",
    "print(\"5. after sort() =\", sample_list) # sort() : 오름차순 정렬\n",
    "\n",
    "sample_list.reverse()\n",
    "print(\"6. after reverse() =\", sample_list) # reverse() : 역순으로 정렬\n",
    "\n",
    "print(\"7. index for 20 =\", sample_list.index(20)) # sample_list.index(2) : sample_list에서 20의 인덱스를 반환\n",
    "\n",
    "sample_list.insert(2, 222)\n",
    "print(\"8. after insert(2, 222) =\", sample_list) # sample_list.insert(2, 222) : 222를 2번 인덱스에 추가\n",
    "\n",
    "sample_list.remove(222)\n",
    "print(\"9. after remove(222) =\", sample_list) # remove(222) : 222를 제거\n",
    "\n",
    "new_list = [100, 200, 100]\n",
    "sample_list.extend(new_list)\n",
    "print(\"10. after extend([100, 200, 100]) =\", sample_list) # sample_list.extend(new_list) : sample_list 뒤에 new_list를 추가\n",
    "\n",
    "print(\"11. the number of 100 =\", sample_list.count(100)) # sample_list.count(100) : sample_list에 있는 100의 갯수 반환"
   ]
  },
  {
   "cell_type": "code",
   "execution_count": null,
   "id": "d748f7c6",
   "metadata": {},
   "outputs": [],
   "source": []
  }
 ],
 "metadata": {
  "kernelspec": {
   "display_name": "Python 3 (ipykernel)",
   "language": "python",
   "name": "python3"
  },
  "language_info": {
   "codemirror_mode": {
    "name": "ipython",
    "version": 3
   },
   "file_extension": ".py",
   "mimetype": "text/x-python",
   "name": "python",
   "nbconvert_exporter": "python",
   "pygments_lexer": "ipython3",
   "version": "3.11.4"
  }
 },
 "nbformat": 4,
 "nbformat_minor": 5
}
