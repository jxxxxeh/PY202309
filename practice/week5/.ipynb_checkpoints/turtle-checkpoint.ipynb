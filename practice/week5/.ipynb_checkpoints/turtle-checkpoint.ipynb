{
 "cells": [
  {
   "cell_type": "code",
   "execution_count": 1,
   "id": "bdfdf77b",
   "metadata": {},
   "outputs": [],
   "source": [
    "import turtle"
   ]
  },
  {
   "cell_type": "code",
   "execution_count": 4,
   "id": "0d658b7d",
   "metadata": {},
   "outputs": [],
   "source": [
    "screen_width, screen_height = 100, 100 # screen_width, screen_height를 각각 100으로 설정\n",
    "\n",
    "turtle.title('Drawing rainbos circles') # 창의 제목 설정\n",
    "turtle.shape('turtle')\n",
    "turtle.setup(width=screen_width+50, height=screen_height+50) # turtle 그래픽 창의 크기를 설정, 너비와 높이를 각 150으로 설정\n",
    "turtle.screensize(screen_width, screen_height)\n",
    "turtle.penup() # 선을 그리지 않는 상태로 설정\n",
    "turtle.goto(0, -screen_height / 2) # 화면 하단 중앙으로 이동\n",
    "turtle.pendown() # 선을 그리는 상태로 설정\n",
    "turtle.speed(5) # 이동 속도 : 5\n",
    "\n",
    "for radius in range(1, 50):\n",
    "    if radius % 7 == 0: # 반지름의 나머지가 0일때\n",
    "        turtle.pencolor('red') # 빨간색으로 설정\n",
    "    elif radius % 7 == 1: # 반지름의 나머지가 1일때\n",
    "        turtle.pencolor('orange') # 주황색으로 설정\n",
    "    elif radius % 7 == 2: # 반지름의 나머지가 2일때\n",
    "        turtle.pencolor('yellow') # 노란색으로 설정\n",
    "    elif radius % 7 == 3: # 반지름의 나머지가 3일때\n",
    "        turtle.pencolor('green') # 초록색으로 설정\n",
    "    elif radius % 7 == 4: # 반지름의 나머지가 4일때\n",
    "        turtle.pencolor('blue') # 파란색으로 설정\n",
    "    elif radius % 7 == 5: # 반지름의 나머지가 5일때\n",
    "        turtle.pencolor('navyblue') # 남색으로 설정\n",
    "    elif radius % 7 == 6: # 반지름의 나머지가 6일때\n",
    "        turtle.pencolor('purple') # 보라색으로 설정\n",
    "        \n",
    "    turtle.circle(radius)\n",
    "turtle.down()\n",
    "\n",
    "# turtle 모듈의 종료 함수 호출하여 그래픽 창 종료\n",
    "try:\n",
    "    turtle.bye()\n",
    "except:\n",
    "    print('turtle bye!')"
   ]
  },
  {
   "cell_type": "code",
   "execution_count": null,
   "id": "fca956fc",
   "metadata": {},
   "outputs": [],
   "source": []
  }
 ],
 "metadata": {
  "kernelspec": {
   "display_name": "Python 3 (ipykernel)",
   "language": "python",
   "name": "python3"
  },
  "language_info": {
   "codemirror_mode": {
    "name": "ipython",
    "version": 3
   },
   "file_extension": ".py",
   "mimetype": "text/x-python",
   "name": "python",
   "nbconvert_exporter": "python",
   "pygments_lexer": "ipython3",
   "version": "3.11.4"
  }
 },
 "nbformat": 4,
 "nbformat_minor": 5
}
