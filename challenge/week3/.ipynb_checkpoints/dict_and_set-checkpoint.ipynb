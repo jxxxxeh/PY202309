{
 "cells": [
  {
   "cell_type": "code",
   "execution_count": 6,
   "id": "06b8b66b",
   "metadata": {},
   "outputs": [
    {
     "name": "stdout",
     "output_type": "stream",
     "text": [
      "Enter English number ranging from 1 to 5 : three\n",
      "three is 셋\n"
     ]
    }
   ],
   "source": [
    "num_dict = {'one':'하나', 'two':'둘', 'three':'셋', 'four':'넷', 'five':'다섯'} # 딕셔너리 생성\n",
    "eng_num = input('Enter English number ranging from 1 to 5 : ') # 1~5중의 숫자를 영어로 입력받아 eng_num에 저장\n",
    "print(eng_num, 'is', num_dict[eng_num]) # 입력된 숫자를 영어, 한국어 순으로 출력"
   ]
  },
  {
   "cell_type": "code",
   "execution_count": 1,
   "id": "3476fdb4",
   "metadata": {},
   "outputs": [
    {
     "name": "stdout",
     "output_type": "stream",
     "text": [
      "Name: Moving / average: 4.0\n",
      "Name: Mask Girl / average: 3.6666666666666665\n",
      "Name: Oppenheimer / average: 3.3333333333333335\n"
     ]
    }
   ],
   "source": [
    "ratings = {'Moving': {'Misoo':4, 'Kwon':3, 'Soo':5},\n",
    "          'Mask Girl': {'Misoo':3, 'Kwon':4, 'Soo':4},\n",
    "          'Oppenheimer': {'Misoo':3, 'Kwon':3, 'Soo':4}} # 딕셔너리 생성\n",
    "\n",
    "\n",
    "for movie in ratings.keys(): # 각 영화에 대해 반복문 시작\n",
    "    # 영화 이름, 해당 영화의 평점 출력\n",
    "    # 평가자 수는 3명이므로 3으로 나눠 평균 산출\n",
    "    print('Name:', movie, '/ average:', (list(ratings[movie].values())[0]+list(ratings[movie].values())[1]+list(ratings[movie].values())[2])/3)"
   ]
  },
  {
   "cell_type": "code",
   "execution_count": 2,
   "id": "d1e183d9",
   "metadata": {},
   "outputs": [
    {
     "name": "stdout",
     "output_type": "stream",
     "text": [
      "Enter user1's 1st friend name:철수\n",
      "Enter user1's 2nd friend name:민수\n",
      "Enter user1's 3rd friend name:영희\n",
      "Enter user2's 1st friend name:철수\n",
      "Enter user2's 2nd friend name:영호\n",
      "Enter user2's 3rd friend name:철민\n",
      "All friends: 철수 민수 철민 영희 영호\n"
     ]
    }
   ],
   "source": [
    "# 두 개의 빈 세트 생성\n",
    "user1_friends = set()\n",
    "user2_friends = set()\n",
    "\n",
    "# user1과 user2의 친구 이름을 입력받아 친구 목록(세트)에 추가\n",
    "user1_friends.add(input('Enter user1\\'s 1st friend name:'))\n",
    "user1_friends.add(input('Enter user1\\'s 2nd friend name:'))\n",
    "user1_friends.add(input('Enter user1\\'s 3rd friend name:'))\n",
    "user2_friends.add(input('Enter user2\\'s 1st friend name:'))\n",
    "user2_friends.add(input('Enter user2\\'s 2nd friend name:'))\n",
    "user2_friends.add(input('Enter user2\\'s 3rd friend name:'))\n",
    "\n",
    "# user1과 user2의 친구 목록을 합친 값을 출력, |연산자를 통해 중복값은 제거\n",
    "print('All friends:', *(user1_friends | user2_friends))"
   ]
  },
  {
   "cell_type": "code",
   "execution_count": null,
   "id": "2348a17b",
   "metadata": {},
   "outputs": [],
   "source": []
  }
 ],
 "metadata": {
  "kernelspec": {
   "display_name": "Python 3 (ipykernel)",
   "language": "python",
   "name": "python3"
  },
  "language_info": {
   "codemirror_mode": {
    "name": "ipython",
    "version": 3
   },
   "file_extension": ".py",
   "mimetype": "text/x-python",
   "name": "python",
   "nbconvert_exporter": "python",
   "pygments_lexer": "ipython3",
   "version": "3.11.4"
  }
 },
 "nbformat": 4,
 "nbformat_minor": 5
}
