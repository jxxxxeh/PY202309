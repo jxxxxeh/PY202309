{
 "cells": [
  {
   "cell_type": "code",
   "execution_count": 1,
   "id": "0fe265fa",
   "metadata": {},
   "outputs": [],
   "source": [
    "# List (1/2)"
   ]
  },
  {
   "cell_type": "code",
   "execution_count": 8,
   "id": "69f1ca25",
   "metadata": {},
   "outputs": [
    {
     "name": "stdout",
     "output_type": "stream",
     "text": [
      "Enter 1st number :50\n",
      "Enter 2nd number :40\n",
      "Enter 3rd number :90\n",
      "Enter 4th number :10\n",
      "Enter 5th number :30\n",
      "max:  90\n",
      "min:  10\n",
      "average: 44.0\n"
     ]
    }
   ],
   "source": [
    "num_list = [int(input(\"Enter 1st number :\")), int(input(\"Enter 2nd number :\")), int(input(\"Enter 3rd number :\")), int(input(\"Enter 4th number :\")), int(input(\"Enter 5th number :\"))]\n",
    "\n",
    "print(\"max: \", max(num_list)) # max(num_list) : num_list에서 최댓값을 반환\n",
    "print(\"min: \", min(num_list)) # min(num_list) : num_list에서 최솟값을 반환\n",
    "print(\"average:\", (num_list[0]+num_list[1]++num_list[2]+num_list[3]+num_list[4])/5) # num_list의 모든 인덱스의 합을 인덱스의 갯수 5로 나눠 평균을 계산"
   ]
  },
  {
   "cell_type": "code",
   "execution_count": 11,
   "id": "eb522b78",
   "metadata": {},
   "outputs": [],
   "source": [
    "# List (2/2)"
   ]
  },
  {
   "cell_type": "code",
   "execution_count": 10,
   "id": "94a2c67f",
   "metadata": {},
   "outputs": [
    {
     "name": "stdout",
     "output_type": "stream",
     "text": [
      "What is your favorite singer?Oh My Girl\n",
      "['BTS', 'Black Pink', 'Oh My Girl']\n"
     ]
    }
   ],
   "source": [
    "singerList = [\"BTS\", \"Black Pink\"]\n",
    "singer = input(\"What is your favorite singer?\")\n",
    "\n",
    "singerList.append(singer) # singer를 singList의 맨 뒤에 추가\n",
    "singerList.sort() # singerList를 이름순으로 정렬\n",
    "print(singerList)"
   ]
  },
  {
   "cell_type": "code",
   "execution_count": 13,
   "id": "b4c4d0fb",
   "metadata": {},
   "outputs": [],
   "source": [
    "# Tuple (1/2)"
   ]
  },
  {
   "cell_type": "code",
   "execution_count": 16,
   "id": "545e49af",
   "metadata": {},
   "outputs": [
    {
     "name": "stdout",
     "output_type": "stream",
     "text": [
      "('tennis', 'football', 'baseball', 'basketball', 'golf')\n",
      "Please enter one of the sport name from above: golf\n",
      "golf has index number: 4\n",
      "Enter a number between 0 and 4 : 2\n",
      "baseball\n"
     ]
    }
   ],
   "source": [
    "sports = ('tennis', 'football', 'baseball', 'basketball', 'golf')\n",
    "\n",
    "print(sports)\n",
    "\n",
    "sport = input(\"Please enter one of the sport name from above: \")\n",
    "print(sport, \"has index number:\", sports.index(sport)) # line5에서 sport에 저장된 item의 인덱스를 출력\n",
    "\n",
    "num = int(input(\"Enter a number between 0 and 4 : \")) # 0~4중 입력받은 값을 num에 정수형으로 저장하고\n",
    "print(sports[num]) # sports에서 인덱스 num번의 item을 출력"
   ]
  },
  {
   "cell_type": "code",
   "execution_count": 1,
   "id": "6f139870",
   "metadata": {},
   "outputs": [],
   "source": [
    "# Tuple (2/2)"
   ]
  },
  {
   "cell_type": "code",
   "execution_count": 10,
   "id": "456b0f2c",
   "metadata": {},
   "outputs": [
    {
     "name": "stdout",
     "output_type": "stream",
     "text": [
      "menu: Americano, Caffe Latte, Caffe Mocha, Iced Tea\n",
      "Enter the 1st item sold yesterday : Caffe Mocha\n",
      "Enter the 2nd item sold yesterday : Iced Tea\n",
      "Enter the 3rd item sold yesterday : Americano\n",
      "Enter the 4th item sold yesterday : Caffe Latte\n",
      "Enter the 5th item sold yesterday : Caffe Mocha\n",
      "Enter the 1st item sold today : Americano\n",
      "Enter the 2nd item sold today : Americano\n",
      "Enter the 3rd item sold today : Americano\n",
      "Enter the 4th item sold today : Iced Tea\n",
      "Enter the 5th item sold today : Caffe Latte\n",
      "Yesterday sales :  Caffe Mocha Iced Tea Americano Caffe Latte Caffe Mocha\n",
      "Today sales :  Americano Americano Americano Iced Tea Caffe Latte\n",
      "Total sales :  Caffe Mocha Iced Tea Americano Caffe Latte Caffe Mocha Americano Americano Americano Iced Tea Caffe Latte\n",
      "Americano sales: 4\n"
     ]
    }
   ],
   "source": [
    "print(\"menu: Americano, Caffe Latte, Caffe Mocha, Iced Tea\")\n",
    "\n",
    "yesterday_beverage = []\n",
    "today_beverage = []\n",
    "\n",
    "yesterday_beverage.append(input(\"Enter the 1st item sold yesterday : \")) # 입력받은 값을 yesterday_beverage의 마지막에 추가\n",
    "yesterday_beverage.append(input(\"Enter the 2nd item sold yesterday : \")) # 입력받은 값을 yesterday_beverage의 마지막에 추가\n",
    "yesterday_beverage.append(input(\"Enter the 3rd item sold yesterday : \")) # 입력받은 값을 yesterday_beverage의 마지막에 추가\n",
    "yesterday_beverage.append(input(\"Enter the 4th item sold yesterday : \")) # 입력받은 값을 yesterday_beverage의 마지막에 추가\n",
    "yesterday_beverage.append(input(\"Enter the 5th item sold yesterday : \")) # 입력받은 값을 yesterday_beverage의 마지막에 추가\n",
    "\n",
    "today_beverage.append(input(\"Enter the 1st item sold today : \")) # 입력받은 값을 today_beverage의 마지막에 추가\n",
    "today_beverage.append(input(\"Enter the 2nd item sold today : \")) # 입력받은 값을 today_beverage의 마지막에 추가\n",
    "today_beverage.append(input(\"Enter the 3rd item sold today : \")) # 입력받은 값을 today_beverage의 마지막에 추가\n",
    "today_beverage.append(input(\"Enter the 4th item sold today : \")) # 입력받은 값을 today_beverage의 마지막에 추가\n",
    "today_beverage.append(input(\"Enter the 5th item sold today : \")) # 입력받은 값을 today_beverage의 마지막에 추가\n",
    "\n",
    "print(\"Yesterday sales : \", *yesterday_beverage) # *yesterday_beverage : yesterday_beverage의 item만 출력\n",
    "print(\"Today sales : \", *today_beverage) # *today_beverage : today_beverage의 item만 출력\n",
    "\n",
    "total_list = yesterday_beverage + today_beverage\n",
    "\n",
    "print(\"Total sales : \", *total_list) # *total_list : total_list의 item만 출력\n",
    "\n",
    "print(\"Americano sales:\", total_list.count(\"Americano\")) # total_list에서 Americano의 갯수를 반환"
   ]
  },
  {
   "cell_type": "code",
   "execution_count": null,
   "id": "76df328f",
   "metadata": {},
   "outputs": [],
   "source": []
  },
  {
   "cell_type": "code",
   "execution_count": null,
   "id": "3ed4ba61",
   "metadata": {},
   "outputs": [],
   "source": []
  }
 ],
 "metadata": {
  "kernelspec": {
   "display_name": "Python 3 (ipykernel)",
   "language": "python",
   "name": "python3"
  },
  "language_info": {
   "codemirror_mode": {
    "name": "ipython",
    "version": 3
   },
   "file_extension": ".py",
   "mimetype": "text/x-python",
   "name": "python",
   "nbconvert_exporter": "python",
   "pygments_lexer": "ipython3",
   "version": "3.11.4"
  }
 },
 "nbformat": 4,
 "nbformat_minor": 5
}
