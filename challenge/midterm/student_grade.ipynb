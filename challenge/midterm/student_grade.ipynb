{
 "cells": [
  {
   "cell_type": "code",
   "execution_count": 18,
   "id": "a0216b09",
   "metadata": {},
   "outputs": [
    {
     "name": "stdout",
     "output_type": "stream",
     "text": [
      "['이름,국어,수학,영어', '실바,50,80.5,90.5', '산토스,70.8,90,100', '맥그리거,90.5,70.8,95.8', '알도,80.5,90.7,85.1', '로우지,60.8,88.5,100', '누네스,88.8,98.5,70.5']\n",
      "이름,국어,수학,영어\n"
     ]
    }
   ],
   "source": [
    "lines = open(\"students.csv\",\"r\", encoding=\"utf8\").readlines()\n",
    "tokens = []\n",
    "for line in lines:\n",
    "    tokens.append((line.replace('\\n', '')))\n",
    "print(tokens)\n",
    "\n",
    "print(tokens[0])\n",
    "\n",
    "# stu_dict = {실바:{국어:50, 수학:80.5, 영어:90.5}}\n",
    "\n",
    "# stu_dict = {}\n",
    "# score_dict = {}\n",
    "\n",
    "# for line in lines:\n",
    "#     line = line.replace('\\n', '')\n",
    "#     print(line)\n",
    "    \n",
    "\n",
    "\n",
    "\n",
    "# # TODO 1: 학생 정보를 딕셔너리에 저장\n",
    "# # stu_dict\n",
    "\n",
    "\n",
    "# # TODO 2: 학생 별 평균 점수를 계산\n",
    "\n",
    "\n"
   ]
  },
  {
   "cell_type": "code",
   "execution_count": null,
   "id": "ccadef2b",
   "metadata": {},
   "outputs": [],
   "source": []
  }
 ],
 "metadata": {
  "kernelspec": {
   "display_name": "Python 3 (ipykernel)",
   "language": "python",
   "name": "python3"
  },
  "language_info": {
   "codemirror_mode": {
    "name": "ipython",
    "version": 3
   },
   "file_extension": ".py",
   "mimetype": "text/x-python",
   "name": "python",
   "nbconvert_exporter": "python",
   "pygments_lexer": "ipython3",
   "version": "3.11.4"
  }
 },
 "nbformat": 4,
 "nbformat_minor": 5
}
