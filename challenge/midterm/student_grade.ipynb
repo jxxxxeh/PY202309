{
 "cells": [
  {
   "cell_type": "code",
   "execution_count": 9,
   "id": "49bfbb8f",
   "metadata": {},
   "outputs": [
    {
     "name": "stdout",
     "output_type": "stream",
     "text": [
      "-----학생들의 평균점수-----\n",
      "실바의 평균 점수는 73.66666666666667 입니다.\n",
      "산토스의 평균 점수는 86.93333333333334 입니다.\n",
      "맥그리거의 평균 점수는 85.7 입니다.\n",
      "알도의 평균 점수는 85.43333333333332 입니다.\n",
      "로우지의 평균 점수는 83.10000000000001 입니다.\n",
      "누네스의 평균 점수는 85.93333333333334 입니다.\n"
     ]
    }
   ],
   "source": [
    "file = open('students.csv', 'r', encoding='utf8')\n",
    "csv_data = file.read()\n",
    "file.close()\n",
    "\n",
    "lines = csv_data.split('\\n')\n",
    "headers = lines[0].split(',')\n",
    "students_data = [line.split(',') for line in lines[1:]]\n",
    "\n",
    "def loadData():\n",
    "    global students_dict\n",
    "    students_dict = {}\n",
    "    for student in students_data:\n",
    "        global student_name\n",
    "        student_name = student[0]\n",
    "        subjects = headers[1:]\n",
    "        scores = [float(score) for score in student[1:]]\n",
    "        global average_score\n",
    "        average_score = sum(scores) / len(scores)\n",
    "\n",
    "    student_data = {subjects[i]: scores[i] for i in range(len(subjects))}\n",
    "    students_dict[student_name] = student_data\n",
    "\n",
    "loadData()\n",
    "students_dict[student_name]['평균'] = average_score\n",
    "# print(students_dict)\n",
    "def getAverage():\n",
    "    print('-----학생들의 평균점수-----')\n",
    "    for i in range(6):\n",
    "        data = students_data[i]\n",
    "        print(data[0]+'의 평균 점수는', (float(data[1])+float(data[2])+float(data[3]))/3, '입니다.')\n",
    "getAverage()"
   ]
  },
  {
   "cell_type": "code",
   "execution_count": null,
   "id": "f32986ff",
   "metadata": {
    "scrolled": true
   },
   "outputs": [],
   "source": []
  },
  {
   "cell_type": "code",
   "execution_count": null,
   "id": "8feee00e",
   "metadata": {},
   "outputs": [],
   "source": []
  },
  {
   "cell_type": "code",
   "execution_count": null,
   "id": "96654c9a",
   "metadata": {},
   "outputs": [],
   "source": []
  }
 ],
 "metadata": {
  "kernelspec": {
   "display_name": "Python 3 (ipykernel)",
   "language": "python",
   "name": "python3"
  },
  "language_info": {
   "codemirror_mode": {
    "name": "ipython",
    "version": 3
   },
   "file_extension": ".py",
   "mimetype": "text/x-python",
   "name": "python",
   "nbconvert_exporter": "python",
   "pygments_lexer": "ipython3",
   "version": "3.11.4"
  }
 },
 "nbformat": 4,
 "nbformat_minor": 5
}
