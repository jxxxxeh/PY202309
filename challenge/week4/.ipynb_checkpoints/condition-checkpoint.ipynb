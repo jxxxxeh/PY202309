{
 "cells": [
  {
   "cell_type": "code",
   "execution_count": 12,
   "id": "ae1842a6",
   "metadata": {},
   "outputs": [
    {
     "name": "stdout",
     "output_type": "stream",
     "text": [
      "Is it raining? (Y/N)y\n",
      "Is it windy? (Y/N)y\n",
      "It is too windy for an umbrella\n"
     ]
    }
   ],
   "source": [
    "rain = input('Is it raining? (Y/N)').upper() # 입력받은 값이 대/소문자 구분없이 일정하게 되도록 대문자로 처리하는 upper()함수를 사용; 유효한 값은 Y, N이 될 것이며 이외는 Incorrect Input으로 처리됨.\n",
    "wind = input('Is it windy? (Y/N)').upper()\n",
    "\n",
    "if rain == 'Y' and wind == 'Y': # rain과 wind 모두 Y인 경우\n",
    "    print('It is too windy for an umbrella')\n",
    "elif rain == 'Y' and wind == 'N': # rain은 Y이고 wind는 N인 경우\n",
    "    print('Take an umbrella')\n",
    "elif rain == 'N' and wind == 'Y': # rain은 N이고 wind는 Y인 경우\n",
    "    print('Please take a coat')\n",
    "elif rain == 'N' and wind == 'N': # rain과 wind 모두 N인 경우\n",
    "    print('Have a nice day!')\n",
    "else : # 어느 하나의 값이라도 Y나 N이 아닌 다른 값이 있는 경우\n",
    "    print('Incorrect Input')"
   ]
  },
  {
   "cell_type": "code",
   "execution_count": null,
   "id": "7c836f3d",
   "metadata": {},
   "outputs": [],
   "source": []
  },
  {
   "cell_type": "code",
   "execution_count": null,
   "id": "4ea99e3f",
   "metadata": {},
   "outputs": [],
   "source": []
  },
  {
   "cell_type": "code",
   "execution_count": null,
   "id": "2e61e99b",
   "metadata": {},
   "outputs": [],
   "source": []
  },
  {
   "cell_type": "code",
   "execution_count": null,
   "id": "beffe0b1",
   "metadata": {},
   "outputs": [],
   "source": []
  }
 ],
 "metadata": {
  "kernelspec": {
   "display_name": "Python 3 (ipykernel)",
   "language": "python",
   "name": "python3"
  },
  "language_info": {
   "codemirror_mode": {
    "name": "ipython",
    "version": 3
   },
   "file_extension": ".py",
   "mimetype": "text/x-python",
   "name": "python",
   "nbconvert_exporter": "python",
   "pygments_lexer": "ipython3",
   "version": "3.11.4"
  }
 },
 "nbformat": 4,
 "nbformat_minor": 5
}
