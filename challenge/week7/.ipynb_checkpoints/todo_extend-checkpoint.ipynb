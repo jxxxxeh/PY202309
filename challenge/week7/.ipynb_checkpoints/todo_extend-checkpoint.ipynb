{
 "cells": [
  {
   "cell_type": "code",
   "execution_count": 13,
   "id": "5d5b335b",
   "metadata": {},
   "outputs": [
    {
     "name": "stdout",
     "output_type": "stream",
     "text": [
      "파일 이름을 입력하세요(ex: code.txt): ddd.txt\n",
      "Check the file name again\n"
     ]
    }
   ],
   "source": [
    "def add_task(task_list, task): # task_list에 task 추가\n",
    "    task_list.append(task)\n",
    "    \n",
    "def display_tasks(task_list):\n",
    "    if not task_list: # task_list가 비어 있을 때\n",
    "        print(\"할일 목록이 비어 있습니다.\")\n",
    "    else: # task_list가 비어 있지 않을 때\n",
    "        print(\"할일 목록:\") # task_list 출력\n",
    "        for i in range(len(task_list)):\n",
    "            task = task_list[i]\n",
    "            print(f\"{i+1}. {task}\") # task_list의 인덱스 i의 아이템을 출력\n",
    "    \n",
    "def save_tasks_to_file(task_list, filename):\n",
    "    write_fp = open(filename, 'w', encoding='utf8') # filename 파일을 쓰기 형식으로 open\n",
    "    for task in task_list:\n",
    "        write_fp.write(task+\"\\n\") # write_fp에 task를 쓰고 줄바꿈\n",
    "    write_fp.close() # write_fp파일 close\n",
    "    \n",
    "def load_tasks_from_file(filename):\n",
    "    task_list = [] # 빈 리스트 task_list 생성\n",
    "    read_fp = open(filename, 'r', encoding='utf8') # filename 파일을 읽기 형식으로 open\n",
    "    lines = read_fp.readlines()\n",
    "    for line in lines:\n",
    "        task_list.append(line.strip()) # .strip() : 앞 뒤 공백 제거\n",
    "    return task_list\n",
    "\n",
    "\n",
    "\n",
    "try:\n",
    "    file_name = input(\"파일 이름을 입력하세요(ex: code.txt): \") # 파일 이름을 입력받아 file_name에 저장\n",
    "    task_list = load_tasks_from_file(file_name) # load_...함수에 file_name을 매개변수로 넣음\n",
    "    while True:\n",
    "        print(\"\\n할일 관리 프로그램\")\n",
    "        print(\"1. 할일 추가\")\n",
    "        print(\"2. 할일 목록 표시\")\n",
    "        print(\"3. 종료\")\n",
    "    \n",
    "        choice = input(\"선택: \")\n",
    "\n",
    "        if choice == '1':\n",
    "            task = input(\"할일을 입력하세요: \")\n",
    "            add_task(task_list, task)\n",
    "            print(\"할일이 추가되었습니다.\")\n",
    "        elif choice == '2':\n",
    "            display_tasks(task_list)\n",
    "        elif choice == '3':\n",
    "            save_tasks_to_file(task_list, file_name) # task_list를 file_name이라는 이름의 파일로 저장\n",
    "            print(\"프로그램을 종료합니다.\")\n",
    "            break # 조건문 탈출\n",
    "        else:\n",
    "            print(\"잘못된 선택입니다. 다시 시도하세요.\")\n",
    "except: # 에러가 발생한다면\n",
    "    print(\"Check the file name again\") # 텍스트 출력"
   ]
  },
  {
   "cell_type": "code",
   "execution_count": null,
   "id": "87ae9b2a",
   "metadata": {},
   "outputs": [],
   "source": []
  },
  {
   "cell_type": "code",
   "execution_count": null,
   "id": "76592524",
   "metadata": {},
   "outputs": [],
   "source": []
  }
 ],
 "metadata": {
  "kernelspec": {
   "display_name": "Python 3 (ipykernel)",
   "language": "python",
   "name": "python3"
  },
  "language_info": {
   "codemirror_mode": {
    "name": "ipython",
    "version": 3
   },
   "file_extension": ".py",
   "mimetype": "text/x-python",
   "name": "python",
   "nbconvert_exporter": "python",
   "pygments_lexer": "ipython3",
   "version": "3.11.4"
  }
 },
 "nbformat": 4,
 "nbformat_minor": 5
}
