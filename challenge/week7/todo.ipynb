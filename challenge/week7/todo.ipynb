{
 "cells": [
  {
   "cell_type": "code",
   "execution_count": null,
   "id": "060c54d9",
   "metadata": {},
   "outputs": [
    {
     "name": "stdout",
     "output_type": "stream",
     "text": [
      "\n",
      "할일 관리 프로그램\n",
      "1. 할일 추가\n",
      "2. 할일 목록 표시\n",
      "3. 종료\n",
      "선택: 1\n",
      "할일을 입력하세요: check\n",
      "할일이 추가되었습니다.\n",
      "\n",
      "할일 관리 프로그램\n",
      "1. 할일 추가\n",
      "2. 할일 목록 표시\n",
      "3. 종료\n"
     ]
    }
   ],
   "source": [
    "def add_task(task_list, task):\n",
    "    task_list.append(task) # task_list에 task 추가\n",
    "    \n",
    "def display_tasks(task_list):\n",
    "    if not task_list: # task_list에 아이템이 없을 때\n",
    "        print(\"할 일 목록이 비어있습니다!\")\n",
    "    else: # task_list에 아이템이 없지 않을 때\n",
    "        print(\"할 일 목록 : \")\n",
    "        for i in range(len(task_list)):\n",
    "            task = task_list[i]\n",
    "            print(f\"{i+1}. {task}\")\n",
    "\n",
    "def save_tasks_to_file(task_list, filename):\n",
    "    write_fp = open(filename, 'w', encoding='utf8')\n",
    "    for task in task_list:\n",
    "        write_fp.write(task+'\\n')\n",
    "    write_fp.close()\n",
    "    \n",
    "\n",
    "def load_tasks_from_file(filename):\n",
    "    task_list = []\n",
    "    read_fp = open(filename, 'r', encoding='utf8')\n",
    "    file_lines = read_fp.readlines()\n",
    "    for line in file_lines:\n",
    "        task_list.append(line.strip())\n",
    "    \n",
    "    return task_list\n",
    "\n",
    "\n",
    "\n",
    "\n",
    "file_name = \"tasks.txt\"\n",
    "task_list = load_tasks_from_file(file_name)\n",
    "\n",
    "while True:\n",
    "    print(\"\\n할일 관리 프로그램\")\n",
    "    print(\"1. 할일 추가\")\n",
    "    print(\"2. 할일 목록 표시\")\n",
    "    print(\"3. 종료\")\n",
    "    choice = input(\"선택: \")\n",
    "    if choice == '1':\n",
    "        task = input(\"할일을 입력하세요: \")\n",
    "        add_task(task_list, task)\n",
    "        print(\"할일이 추가되었습니다.\")\n",
    "    elif choice == '2':\n",
    "        display_tasks(task_list)\n",
    "    elif choice == '3':\n",
    "        save_tasks_to_file(task_list, file_name)\n",
    "        print(\"프로그램을 종료합니다.\")\n",
    "        break\n",
    "    else:\n",
    "        print(\"잘못된 선택입니다. 다시 시도하세요.\")"
   ]
  },
  {
   "cell_type": "code",
   "execution_count": null,
   "id": "fc84173c",
   "metadata": {},
   "outputs": [],
   "source": []
  },
  {
   "cell_type": "code",
   "execution_count": null,
   "id": "da3bb291",
   "metadata": {},
   "outputs": [],
   "source": []
  }
 ],
 "metadata": {
  "kernelspec": {
   "display_name": "Python 3 (ipykernel)",
   "language": "python",
   "name": "python3"
  },
  "language_info": {
   "codemirror_mode": {
    "name": "ipython",
    "version": 3
   },
   "file_extension": ".py",
   "mimetype": "text/x-python",
   "name": "python",
   "nbconvert_exporter": "python",
   "pygments_lexer": "ipython3",
   "version": "3.11.4"
  }
 },
 "nbformat": 4,
 "nbformat_minor": 5
}
